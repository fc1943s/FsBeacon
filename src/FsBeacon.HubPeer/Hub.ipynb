{
 "cells": [
  {
   "cell_type": "markdown",
   "source": [
    "# Hub"
   ],
   "metadata": {
    "dotnet_interactive": {
     "language": "fsharp"
    }
   }
  },
  {
   "cell_type": "code",
   "execution_count": null,
   "source": [
    "#r \"nuget: Hopac\"\r\n",
    "open System\r\n",
    "open System.Threading\r\n",
    "open Hopac.Extensions\r\n",
    "open Hopac.Infixes\r\n",
    "open Hopac"
   ],
   "outputs": [
    {
     "data": {
      "text/html": [
       "<div><div></div><div></div><div><strong>Installed Packages</strong><ul><li><span>Hopac, 0.5.1</span></li></ul></div></div>"
      ]
     },
     "metadata": {},
     "output_type": "display_data"
    }
   ],
   "metadata": {
    "dotnet_interactive": {
     "language": "fsharp"
    }
   }
  },
  {
   "cell_type": "code",
   "execution_count": null,
   "source": [
    "#r \"nuget: FSharp.Control.AsyncSeq\"\r\n",
    "open FSharp.Control"
   ],
   "outputs": [
    {
     "data": {
      "text/html": [
       "<div><div></div><div></div><div><strong>Installed Packages</strong><ul><li><span>FSharp.Control.AsyncSeq, 3.1.0</span></li></ul></div></div>"
      ]
     },
     "metadata": {},
     "output_type": "display_data"
    }
   ],
   "metadata": {
    "dotnet_interactive": {
     "language": "fsharp"
    }
   }
  },
  {
   "cell_type": "code",
   "execution_count": null,
   "source": [
    "let path = \".\"\r\n",
    "let watcher = new FileSystemWatcher (Path = path, EnableRaisingEvents = true, IncludeSubdirectories = true)"
   ],
   "outputs": [],
   "metadata": {
    "dotnet_interactive": {
     "language": "fsharp"
    }
   }
  },
  {
   "cell_type": "code",
   "execution_count": null,
   "source": [
    "module Async =\r\n",
    "    let inline map fn op =\r\n",
    "        async {\r\n",
    "            let! x = op\r\n",
    "            let value = fn x\r\n",
    "            return value\r\n",
    "        }"
   ],
   "outputs": [],
   "metadata": {
    "dotnet_interactive": {
     "language": "fsharp"
    }
   }
  },
  {
   "cell_type": "code",
   "execution_count": null,
   "source": [
    "open System.Threading.Tasks\r\n",
    "open FSharp.Control\r\n",
    "module AsyncSeq =\r\n",
    "    let inline forwardEvent event fn =\r\n",
    "        AsyncSeq.unfoldAsync\r\n",
    "            (fun () ->\r\n",
    "                Async.FromContinuations\r\n",
    "                    (fun (res, err, _c) ->\r\n",
    "                        try\r\n",
    "                            fn (fun args -> res (event args))\r\n",
    "                        with\r\n",
    "                        | ex -> err ex)\r\n",
    "                |> Async.map (fun change -> Some (change, ())))\r\n",
    "            ()"
   ],
   "outputs": [],
   "metadata": {
    "dotnet_interactive": {
     "language": "fsharp"
    }
   }
  },
  {
   "cell_type": "code",
   "execution_count": null,
   "source": [
    "type FileSystemChange =\r\n",
    "    | Changed of FileSystemEventArgs\r\n",
    "    | Created of FileSystemEventArgs\r\n",
    "    | Deleted of FileSystemEventArgs\r\n",
    "    | Renamed of RenamedEventArgs"
   ],
   "outputs": [],
   "metadata": {
    "dotnet_interactive": {
     "language": "fsharp"
    }
   }
  },
  {
   "cell_type": "code",
   "execution_count": null,
   "source": [
    "let events =\r\n",
    "    [\r\n",
    "        AsyncSeq.forwardEvent FileSystemChange.Changed watcher.Changed.Add\r\n",
    "        AsyncSeq.forwardEvent FileSystemChange.Created watcher.Created.Add\r\n",
    "        AsyncSeq.forwardEvent FileSystemChange.Deleted watcher.Deleted.Add\r\n",
    "        AsyncSeq.forwardEvent FileSystemChange.Renamed watcher.Renamed.Add\r\n",
    "    ]\r\n",
    "    |> AsyncSeq.mergeAll\r\n",
    "events"
   ],
   "outputs": [
    {
     "data": {
      "text/html": [
       "<table><thead><tr><th>f</th></tr></thead><tbody><tr><td><div class=\"dni-plaintext\">{ FSharp.Control.AsyncSeq+mergeAll@1628[FSI_0011+FileSystemChange]: ss: [ FSharp.Control.AsyncSeqOp+UnfoldAsyncEnumerator`2[Microsoft.FSharp.Core.Unit,FSI_0011+FileSystemChange], FSharp.Control.AsyncSeqOp+UnfoldAsyncEnumerator`2[Microsoft.FSharp.Core.Unit,FSI_0011+FileSystemChange], FSharp.Control.AsyncSeqOp+UnfoldAsyncEnumerator`2[Microsoft.FSharp.Core.Unit,FSI_0011+FileSystemChange], FSharp.Control.AsyncSeqOp+UnfoldAsyncEnumerator`2[Microsoft.FSharp.Core.Unit,FSI_0011+FileSystemChange] ] }</div></td></tr></tbody></table>"
      ]
     },
     "metadata": {},
     "output_type": "display_data"
    }
   ],
   "metadata": {
    "dotnet_interactive": {
     "language": "fsharp"
    }
   }
  },
  {
   "cell_type": "code",
   "execution_count": null,
   "source": [
    "let getLocals () = $\"\""
   ],
   "outputs": [],
   "metadata": {
    "dotnet_interactive": {
     "language": "fsharp"
    }
   }
  },
  {
   "cell_type": "code",
   "execution_count": null,
   "source": [
    "let fn (hub, change) = async {\r\n",
    "    printfn $\"change={change}\"\r\n",
    "}"
   ],
   "outputs": [],
   "metadata": {
    "dotnet_interactive": {
     "language": "fsharp"
    }
   }
  },
  {
   "cell_type": "code",
   "execution_count": null,
   "source": [],
   "outputs": [],
   "metadata": {
    "dotnet_interactive": {
     "language": "fsharp"
    }
   }
  },
  {
   "cell_type": "code",
   "execution_count": null,
   "source": [
    "events\r\n",
    "|> AsyncSeq.iterAsync (fun change ->\r\n",
    "     let getLocals () = $\"change={change} {getLocals ()}\"\r\n",
    "     fn ((), change))\r\n",
    "|> Async.RunSynchronously"
   ],
   "outputs": [
    {
     "output_type": "error",
     "ename": "Error",
     "evalue": "System.OperationCanceledException: Command :SubmitCode: events\r\n|> AsyncSeq.iterAsync (fun change ->\r\n     ... cancelled.",
     "traceback": [
      "System.OperationCanceledException: Command :SubmitCode: events\r\n",
      "|> AsyncSeq.iterAsync (fun change ->\r\n",
      "     ... cancelled."
     ]
    }
   ],
   "metadata": {
    "dotnet_interactive": {
     "language": "fsharp"
    }
   }
  },
  {
   "cell_type": "code",
   "execution_count": null,
   "source": [
    "async {\r\n",
    "    do! Async.Sleep 1000\r\n",
    "    printfn $\"a=1\"\r\n",
    "}\r\n",
    "|> Async.RunSynchronously"
   ],
   "outputs": [
    {
     "output_type": "stream",
     "name": "stdout",
     "text": [
      "a=1\r\n"
     ]
    }
   ],
   "metadata": {
    "dotnet_interactive": {
     "language": "fsharp"
    }
   }
  },
  {
   "cell_type": "code",
   "execution_count": null,
   "source": [
    "let a = 1"
   ],
   "outputs": [],
   "metadata": {
    "dotnet_interactive": {
     "language": "fsharp"
    }
   }
  },
  {
   "cell_type": "code",
   "execution_count": null,
   "source": [
    "a + 2"
   ],
   "outputs": [
    {
     "data": {
      "text/html": [
       "<div class=\"dni-plaintext\">3</div>"
      ]
     },
     "metadata": {},
     "output_type": "display_data"
    }
   ],
   "metadata": {
    "dotnet_interactive": {
     "language": "fsharp"
    }
   }
  }
 ],
 "metadata": {
  "orig_nbformat": 4,
  "language_info": {
   "file_extension": ".cs",
   "mimetype": "text/x-csharp",
   "name": "C#",
   "pygments_lexer": "csharp",
   "version": "9.0"
  },
  "kernelspec": {
   "display_name": ".NET (C#)",
   "language": "C#",
   "name": ".net-csharp"
  }
 },
 "nbformat": 4,
 "nbformat_minor": 2
}